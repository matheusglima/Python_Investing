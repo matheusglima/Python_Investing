{
  "nbformat": 4,
  "nbformat_minor": 0,
  "metadata": {
    "colab": {
      "name": "Correlaçao IBOV e S&P 500.ipynb",
      "provenance": [],
      "authorship_tag": "ABX9TyOJvdBVTZbK/MAQXRaJNYif",
      "include_colab_link": true
    },
    "kernelspec": {
      "name": "python3",
      "display_name": "Python 3"
    }
  },
  "cells": [
    {
      "cell_type": "markdown",
      "metadata": {
        "id": "view-in-github",
        "colab_type": "text"
      },
      "source": [
        "<a href=\"https://colab.research.google.com/github/matheusglima/Python_Investing/blob/master/Correla%C3%A7ao_IBOV_e_S%26P_500.ipynb\" target=\"_parent\"><img src=\"https://colab.research.google.com/assets/colab-badge.svg\" alt=\"Open In Colab\"/></a>"
      ]
    },
    {
      "cell_type": "markdown",
      "metadata": {
        "id": "5aPrYlpzTUCF",
        "colab_type": "text"
      },
      "source": [
        "**Importando Bibliotecas**"
      ]
    },
    {
      "cell_type": "code",
      "metadata": {
        "id": "D1gSNU-vRg9n",
        "colab_type": "code",
        "colab": {
          "base_uri": "https://localhost:8080/",
          "height": 411
        },
        "outputId": "4225a53d-37b9-4899-92bd-300a41673dc1"
      },
      "source": [
        "import pandas as pd\n",
        "import numpy as np\n",
        "import matplotlib.pyplot as plt\n",
        "import pandas_datareader.data as web\n",
        "import seaborn as sns\n",
        "sns.set()\n",
        "\n",
        "!pip install yfinance --upgrade --no-cache-dir\n",
        "import yfinance as yf\n",
        "yf.pdr_override()"
      ],
      "execution_count": 1,
      "outputs": [
        {
          "output_type": "stream",
          "text": [
            "/usr/local/lib/python3.6/dist-packages/pandas_datareader/compat/__init__.py:7: FutureWarning: pandas.util.testing is deprecated. Use the functions in the public API at pandas.testing instead.\n",
            "  from pandas.util.testing import assert_frame_equal\n"
          ],
          "name": "stderr"
        },
        {
          "output_type": "stream",
          "text": [
            "Collecting yfinance\n",
            "  Downloading https://files.pythonhosted.org/packages/c2/31/8b374a12b90def92a4e27d0fc595fc43635f395984e36a075244d98bd265/yfinance-0.1.54.tar.gz\n",
            "Requirement already satisfied, skipping upgrade: pandas>=0.24 in /usr/local/lib/python3.6/dist-packages (from yfinance) (1.0.3)\n",
            "Requirement already satisfied, skipping upgrade: numpy>=1.15 in /usr/local/lib/python3.6/dist-packages (from yfinance) (1.18.4)\n",
            "Requirement already satisfied, skipping upgrade: requests>=2.20 in /usr/local/lib/python3.6/dist-packages (from yfinance) (2.23.0)\n",
            "Requirement already satisfied, skipping upgrade: multitasking>=0.0.7 in /usr/local/lib/python3.6/dist-packages (from yfinance) (0.0.9)\n",
            "Requirement already satisfied, skipping upgrade: pytz>=2017.2 in /usr/local/lib/python3.6/dist-packages (from pandas>=0.24->yfinance) (2018.9)\n",
            "Requirement already satisfied, skipping upgrade: python-dateutil>=2.6.1 in /usr/local/lib/python3.6/dist-packages (from pandas>=0.24->yfinance) (2.8.1)\n",
            "Requirement already satisfied, skipping upgrade: certifi>=2017.4.17 in /usr/local/lib/python3.6/dist-packages (from requests>=2.20->yfinance) (2020.4.5.1)\n",
            "Requirement already satisfied, skipping upgrade: chardet<4,>=3.0.2 in /usr/local/lib/python3.6/dist-packages (from requests>=2.20->yfinance) (3.0.4)\n",
            "Requirement already satisfied, skipping upgrade: idna<3,>=2.5 in /usr/local/lib/python3.6/dist-packages (from requests>=2.20->yfinance) (2.9)\n",
            "Requirement already satisfied, skipping upgrade: urllib3!=1.25.0,!=1.25.1,<1.26,>=1.21.1 in /usr/local/lib/python3.6/dist-packages (from requests>=2.20->yfinance) (1.24.3)\n",
            "Requirement already satisfied, skipping upgrade: six>=1.5 in /usr/local/lib/python3.6/dist-packages (from python-dateutil>=2.6.1->pandas>=0.24->yfinance) (1.12.0)\n",
            "Building wheels for collected packages: yfinance\n",
            "  Building wheel for yfinance (setup.py) ... \u001b[?25l\u001b[?25hdone\n",
            "  Created wheel for yfinance: filename=yfinance-0.1.54-py2.py3-none-any.whl size=22409 sha256=932da41a9794e1163c0c5423592aeacb49fb90149cbf4c832607f39146446f2d\n",
            "  Stored in directory: /tmp/pip-ephem-wheel-cache-29u711po/wheels/f9/e3/5b/ec24dd2984b12d61e0abf26289746c2436a0e7844f26f2515c\n",
            "Successfully built yfinance\n",
            "Installing collected packages: yfinance\n",
            "Successfully installed yfinance-0.1.54\n"
          ],
          "name": "stdout"
        }
      ]
    },
    {
      "cell_type": "markdown",
      "metadata": {
        "id": "x69A8zCpTMbB",
        "colab_type": "text"
      },
      "source": [
        "**Obtendo dados do mercado**"
      ]
    },
    {
      "cell_type": "code",
      "metadata": {
        "id": "1crPQkMfTHdE",
        "colab_type": "code",
        "colab": {
          "base_uri": "https://localhost:8080/",
          "height": 34
        },
        "outputId": "f8049349-ddf2-4c83-ac5f-91cbeef7f893"
      },
      "source": [
        "tickers = ['^BVSP', '^GSPC']\n",
        "dados_yahoo = web.get_data_yahoo(tickers, period='5y')['Adj Close']"
      ],
      "execution_count": 15,
      "outputs": [
        {
          "output_type": "stream",
          "text": [
            "[*********************100%***********************]  2 of 2 completed\n"
          ],
          "name": "stdout"
        }
      ]
    },
    {
      "cell_type": "code",
      "metadata": {
        "id": "pnX6lXOQT3Fw",
        "colab_type": "code",
        "colab": {
          "base_uri": "https://localhost:8080/",
          "height": 450
        },
        "outputId": "c09173ea-5f18-4cde-85e0-cda762cf443a"
      },
      "source": [
        "dados_yahoo = dados_yahoo.dropna()\n",
        "dados_yahoo"
      ],
      "execution_count": 19,
      "outputs": [
        {
          "output_type": "execute_result",
          "data": {
            "text/html": [
              "<div>\n",
              "<style scoped>\n",
              "    .dataframe tbody tr th:only-of-type {\n",
              "        vertical-align: middle;\n",
              "    }\n",
              "\n",
              "    .dataframe tbody tr th {\n",
              "        vertical-align: top;\n",
              "    }\n",
              "\n",
              "    .dataframe thead th {\n",
              "        text-align: right;\n",
              "    }\n",
              "</style>\n",
              "<table border=\"1\" class=\"dataframe\">\n",
              "  <thead>\n",
              "    <tr style=\"text-align: right;\">\n",
              "      <th></th>\n",
              "      <th>^BVSP</th>\n",
              "      <th>^GSPC</th>\n",
              "    </tr>\n",
              "    <tr>\n",
              "      <th>Date</th>\n",
              "      <th></th>\n",
              "      <th></th>\n",
              "    </tr>\n",
              "  </thead>\n",
              "  <tbody>\n",
              "    <tr>\n",
              "      <th>2015-06-01</th>\n",
              "      <td>53031.000000</td>\n",
              "      <td>2111.729980</td>\n",
              "    </tr>\n",
              "    <tr>\n",
              "      <th>2015-06-02</th>\n",
              "      <td>54236.000000</td>\n",
              "      <td>2109.600098</td>\n",
              "    </tr>\n",
              "    <tr>\n",
              "      <th>2015-06-03</th>\n",
              "      <td>53523.000000</td>\n",
              "      <td>2114.070068</td>\n",
              "    </tr>\n",
              "    <tr>\n",
              "      <th>2015-06-05</th>\n",
              "      <td>52973.000000</td>\n",
              "      <td>2092.830078</td>\n",
              "    </tr>\n",
              "    <tr>\n",
              "      <th>2015-06-08</th>\n",
              "      <td>52810.000000</td>\n",
              "      <td>2079.280029</td>\n",
              "    </tr>\n",
              "    <tr>\n",
              "      <th>...</th>\n",
              "      <td>...</td>\n",
              "      <td>...</td>\n",
              "    </tr>\n",
              "    <tr>\n",
              "      <th>2020-05-26</th>\n",
              "      <td>85469.000000</td>\n",
              "      <td>2991.770020</td>\n",
              "    </tr>\n",
              "    <tr>\n",
              "      <th>2020-05-27</th>\n",
              "      <td>87946.000000</td>\n",
              "      <td>3036.129883</td>\n",
              "    </tr>\n",
              "    <tr>\n",
              "      <th>2020-05-28</th>\n",
              "      <td>86949.000000</td>\n",
              "      <td>3029.729980</td>\n",
              "    </tr>\n",
              "    <tr>\n",
              "      <th>2020-05-29</th>\n",
              "      <td>87403.000000</td>\n",
              "      <td>3044.310059</td>\n",
              "    </tr>\n",
              "    <tr>\n",
              "      <th>2020-06-01</th>\n",
              "      <td>88935.773438</td>\n",
              "      <td>3057.020020</td>\n",
              "    </tr>\n",
              "  </tbody>\n",
              "</table>\n",
              "<p>1204 rows × 2 columns</p>\n",
              "</div>"
            ],
            "text/plain": [
              "                   ^BVSP        ^GSPC\n",
              "Date                                 \n",
              "2015-06-01  53031.000000  2111.729980\n",
              "2015-06-02  54236.000000  2109.600098\n",
              "2015-06-03  53523.000000  2114.070068\n",
              "2015-06-05  52973.000000  2092.830078\n",
              "2015-06-08  52810.000000  2079.280029\n",
              "...                  ...          ...\n",
              "2020-05-26  85469.000000  2991.770020\n",
              "2020-05-27  87946.000000  3036.129883\n",
              "2020-05-28  86949.000000  3029.729980\n",
              "2020-05-29  87403.000000  3044.310059\n",
              "2020-06-01  88935.773438  3057.020020\n",
              "\n",
              "[1204 rows x 2 columns]"
            ]
          },
          "metadata": {
            "tags": []
          },
          "execution_count": 19
        }
      ]
    },
    {
      "cell_type": "code",
      "metadata": {
        "id": "9Ze42EzlUq7r",
        "colab_type": "code",
        "colab": {
          "base_uri": "https://localhost:8080/",
          "height": 450
        },
        "outputId": "fcb9ca6a-7223-4fd8-8fdd-51295f135db3"
      },
      "source": [
        "dados_yahoo.columns = ['IBOV', 'S&P 500']\n",
        "dados_yahoo"
      ],
      "execution_count": 20,
      "outputs": [
        {
          "output_type": "execute_result",
          "data": {
            "text/html": [
              "<div>\n",
              "<style scoped>\n",
              "    .dataframe tbody tr th:only-of-type {\n",
              "        vertical-align: middle;\n",
              "    }\n",
              "\n",
              "    .dataframe tbody tr th {\n",
              "        vertical-align: top;\n",
              "    }\n",
              "\n",
              "    .dataframe thead th {\n",
              "        text-align: right;\n",
              "    }\n",
              "</style>\n",
              "<table border=\"1\" class=\"dataframe\">\n",
              "  <thead>\n",
              "    <tr style=\"text-align: right;\">\n",
              "      <th></th>\n",
              "      <th>IBOV</th>\n",
              "      <th>S&amp;P 500</th>\n",
              "    </tr>\n",
              "    <tr>\n",
              "      <th>Date</th>\n",
              "      <th></th>\n",
              "      <th></th>\n",
              "    </tr>\n",
              "  </thead>\n",
              "  <tbody>\n",
              "    <tr>\n",
              "      <th>2015-06-01</th>\n",
              "      <td>53031.000000</td>\n",
              "      <td>2111.729980</td>\n",
              "    </tr>\n",
              "    <tr>\n",
              "      <th>2015-06-02</th>\n",
              "      <td>54236.000000</td>\n",
              "      <td>2109.600098</td>\n",
              "    </tr>\n",
              "    <tr>\n",
              "      <th>2015-06-03</th>\n",
              "      <td>53523.000000</td>\n",
              "      <td>2114.070068</td>\n",
              "    </tr>\n",
              "    <tr>\n",
              "      <th>2015-06-05</th>\n",
              "      <td>52973.000000</td>\n",
              "      <td>2092.830078</td>\n",
              "    </tr>\n",
              "    <tr>\n",
              "      <th>2015-06-08</th>\n",
              "      <td>52810.000000</td>\n",
              "      <td>2079.280029</td>\n",
              "    </tr>\n",
              "    <tr>\n",
              "      <th>...</th>\n",
              "      <td>...</td>\n",
              "      <td>...</td>\n",
              "    </tr>\n",
              "    <tr>\n",
              "      <th>2020-05-26</th>\n",
              "      <td>85469.000000</td>\n",
              "      <td>2991.770020</td>\n",
              "    </tr>\n",
              "    <tr>\n",
              "      <th>2020-05-27</th>\n",
              "      <td>87946.000000</td>\n",
              "      <td>3036.129883</td>\n",
              "    </tr>\n",
              "    <tr>\n",
              "      <th>2020-05-28</th>\n",
              "      <td>86949.000000</td>\n",
              "      <td>3029.729980</td>\n",
              "    </tr>\n",
              "    <tr>\n",
              "      <th>2020-05-29</th>\n",
              "      <td>87403.000000</td>\n",
              "      <td>3044.310059</td>\n",
              "    </tr>\n",
              "    <tr>\n",
              "      <th>2020-06-01</th>\n",
              "      <td>88935.773438</td>\n",
              "      <td>3057.020020</td>\n",
              "    </tr>\n",
              "  </tbody>\n",
              "</table>\n",
              "<p>1204 rows × 2 columns</p>\n",
              "</div>"
            ],
            "text/plain": [
              "                    IBOV      S&P 500\n",
              "Date                                 \n",
              "2015-06-01  53031.000000  2111.729980\n",
              "2015-06-02  54236.000000  2109.600098\n",
              "2015-06-03  53523.000000  2114.070068\n",
              "2015-06-05  52973.000000  2092.830078\n",
              "2015-06-08  52810.000000  2079.280029\n",
              "...                  ...          ...\n",
              "2020-05-26  85469.000000  2991.770020\n",
              "2020-05-27  87946.000000  3036.129883\n",
              "2020-05-28  86949.000000  3029.729980\n",
              "2020-05-29  87403.000000  3044.310059\n",
              "2020-06-01  88935.773438  3057.020020\n",
              "\n",
              "[1204 rows x 2 columns]"
            ]
          },
          "metadata": {
            "tags": []
          },
          "execution_count": 20
        }
      ]
    },
    {
      "cell_type": "code",
      "metadata": {
        "id": "nten8jtVUxEP",
        "colab_type": "code",
        "colab": {
          "base_uri": "https://localhost:8080/",
          "height": 450
        },
        "outputId": "db119b92-8a49-4929-de88-4c2cdace0558"
      },
      "source": [
        "dados_yahoo['ibov_normalizado'] = (dados_yahoo['IBOV'] / dados_yahoo['IBOV'].iloc[0])\n",
        "dados_yahoo['S&P_normalizado'] = (dados_yahoo['S&P 500'] / dados_yahoo['S&P 500'].iloc[0])\n",
        "dados_yahoo"
      ],
      "execution_count": 29,
      "outputs": [
        {
          "output_type": "execute_result",
          "data": {
            "text/html": [
              "<div>\n",
              "<style scoped>\n",
              "    .dataframe tbody tr th:only-of-type {\n",
              "        vertical-align: middle;\n",
              "    }\n",
              "\n",
              "    .dataframe tbody tr th {\n",
              "        vertical-align: top;\n",
              "    }\n",
              "\n",
              "    .dataframe thead th {\n",
              "        text-align: right;\n",
              "    }\n",
              "</style>\n",
              "<table border=\"1\" class=\"dataframe\">\n",
              "  <thead>\n",
              "    <tr style=\"text-align: right;\">\n",
              "      <th></th>\n",
              "      <th>IBOV</th>\n",
              "      <th>S&amp;P 500</th>\n",
              "      <th>ibov_normalizado</th>\n",
              "      <th>S&amp;P_normalizado</th>\n",
              "    </tr>\n",
              "    <tr>\n",
              "      <th>Date</th>\n",
              "      <th></th>\n",
              "      <th></th>\n",
              "      <th></th>\n",
              "      <th></th>\n",
              "    </tr>\n",
              "  </thead>\n",
              "  <tbody>\n",
              "    <tr>\n",
              "      <th>2015-06-01</th>\n",
              "      <td>53031.000000</td>\n",
              "      <td>2111.729980</td>\n",
              "      <td>1.000000</td>\n",
              "      <td>1.000000</td>\n",
              "    </tr>\n",
              "    <tr>\n",
              "      <th>2015-06-02</th>\n",
              "      <td>54236.000000</td>\n",
              "      <td>2109.600098</td>\n",
              "      <td>1.022723</td>\n",
              "      <td>0.998991</td>\n",
              "    </tr>\n",
              "    <tr>\n",
              "      <th>2015-06-03</th>\n",
              "      <td>53523.000000</td>\n",
              "      <td>2114.070068</td>\n",
              "      <td>1.009278</td>\n",
              "      <td>1.001108</td>\n",
              "    </tr>\n",
              "    <tr>\n",
              "      <th>2015-06-05</th>\n",
              "      <td>52973.000000</td>\n",
              "      <td>2092.830078</td>\n",
              "      <td>0.998906</td>\n",
              "      <td>0.991050</td>\n",
              "    </tr>\n",
              "    <tr>\n",
              "      <th>2015-06-08</th>\n",
              "      <td>52810.000000</td>\n",
              "      <td>2079.280029</td>\n",
              "      <td>0.995833</td>\n",
              "      <td>0.984633</td>\n",
              "    </tr>\n",
              "    <tr>\n",
              "      <th>...</th>\n",
              "      <td>...</td>\n",
              "      <td>...</td>\n",
              "      <td>...</td>\n",
              "      <td>...</td>\n",
              "    </tr>\n",
              "    <tr>\n",
              "      <th>2020-05-26</th>\n",
              "      <td>85469.000000</td>\n",
              "      <td>2991.770020</td>\n",
              "      <td>1.611680</td>\n",
              "      <td>1.416739</td>\n",
              "    </tr>\n",
              "    <tr>\n",
              "      <th>2020-05-27</th>\n",
              "      <td>87946.000000</td>\n",
              "      <td>3036.129883</td>\n",
              "      <td>1.658388</td>\n",
              "      <td>1.437745</td>\n",
              "    </tr>\n",
              "    <tr>\n",
              "      <th>2020-05-28</th>\n",
              "      <td>86949.000000</td>\n",
              "      <td>3029.729980</td>\n",
              "      <td>1.639588</td>\n",
              "      <td>1.434715</td>\n",
              "    </tr>\n",
              "    <tr>\n",
              "      <th>2020-05-29</th>\n",
              "      <td>87403.000000</td>\n",
              "      <td>3044.310059</td>\n",
              "      <td>1.648149</td>\n",
              "      <td>1.441619</td>\n",
              "    </tr>\n",
              "    <tr>\n",
              "      <th>2020-06-01</th>\n",
              "      <td>88935.773438</td>\n",
              "      <td>3057.020020</td>\n",
              "      <td>1.677053</td>\n",
              "      <td>1.447638</td>\n",
              "    </tr>\n",
              "  </tbody>\n",
              "</table>\n",
              "<p>1204 rows × 4 columns</p>\n",
              "</div>"
            ],
            "text/plain": [
              "                    IBOV      S&P 500  ibov_normalizado  S&P_normalizado\n",
              "Date                                                                    \n",
              "2015-06-01  53031.000000  2111.729980          1.000000         1.000000\n",
              "2015-06-02  54236.000000  2109.600098          1.022723         0.998991\n",
              "2015-06-03  53523.000000  2114.070068          1.009278         1.001108\n",
              "2015-06-05  52973.000000  2092.830078          0.998906         0.991050\n",
              "2015-06-08  52810.000000  2079.280029          0.995833         0.984633\n",
              "...                  ...          ...               ...              ...\n",
              "2020-05-26  85469.000000  2991.770020          1.611680         1.416739\n",
              "2020-05-27  87946.000000  3036.129883          1.658388         1.437745\n",
              "2020-05-28  86949.000000  3029.729980          1.639588         1.434715\n",
              "2020-05-29  87403.000000  3044.310059          1.648149         1.441619\n",
              "2020-06-01  88935.773438  3057.020020          1.677053         1.447638\n",
              "\n",
              "[1204 rows x 4 columns]"
            ]
          },
          "metadata": {
            "tags": []
          },
          "execution_count": 29
        }
      ]
    },
    {
      "cell_type": "markdown",
      "metadata": {
        "id": "CMMYHpdpWupd",
        "colab_type": "text"
      },
      "source": [
        "**Resultados**"
      ]
    },
    {
      "cell_type": "code",
      "metadata": {
        "id": "4ftkK1bgWtlC",
        "colab_type": "code",
        "colab": {
          "base_uri": "https://localhost:8080/",
          "height": 486
        },
        "outputId": "850dbbda-e3aa-46e7-d898-2355a5d332a4"
      },
      "source": [
        "dados_yahoo['ibov_normalizado'].rolling(252).corr(dados_yahoo['S&P_normalizado']).plot(figsize=(22, 8))\n",
        "dados_yahoo['ibov_normalizado'].rolling(252).corr(dados_yahoo['S&P_normalizado']).mean()"
      ],
      "execution_count": 31,
      "outputs": [
        {
          "output_type": "execute_result",
          "data": {
            "text/plain": [
              "0.5688709813437569"
            ]
          },
          "metadata": {
            "tags": []
          },
          "execution_count": 31
        },
        {
          "output_type": "display_data",
          "data": {
            "image/png": "[encoded data removed]",
            "text/plain": [
              "<Figure size 1584x576 with 1 Axes>"
            ]
          },
          "metadata": {
            "tags": [],
            "needs_background": "light"
          }
        }
      ]
    },
    {
      "cell_type": "code",
      "metadata": {
        "id": "5j7f47iPXH8h",
        "colab_type": "code",
        "colab": {
          "base_uri": "https://localhost:8080/",
          "height": 376
        },
        "outputId": "f77b84ce-93c1-40b1-c545-1759f0a9f985"
      },
      "source": [
        "sns.heatmap(dados_yahoo.corr(), annot=True)"
      ],
      "execution_count": 38,
      "outputs": [
        {
          "output_type": "execute_result",
          "data": {
            "text/plain": [
              "<matplotlib.axes._subplots.AxesSubplot at 0x7fa236d72978>"
            ]
          },
          "metadata": {
            "tags": []
          },
          "execution_count": 38
        },
        {
          "output_type": "display_data",
          "data": {
            "image/png": "[encoded data removed]",
            "text/plain": [
              "<Figure size 432x288 with 2 Axes>"
            ]
          },
          "metadata": {
            "tags": [],
            "needs_background": "light"
          }
        }
      ]
    }
  ]
}