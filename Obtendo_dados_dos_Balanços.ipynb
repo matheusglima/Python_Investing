{
  "nbformat": 4,
  "nbformat_minor": 0,
  "metadata": {
    "colab": {
      "name": "Obtendo dados dos Balanços.ipynb",
      "provenance": [],
      "authorship_tag": "ABX9TyMSKhI0/yKW1mXF3xZEGXXi",
      "include_colab_link": true
    },
    "kernelspec": {
      "name": "python3",
      "display_name": "Python 3"
    }
  },
  "cells": [
    {
      "cell_type": "markdown",
      "metadata": {
        "id": "view-in-github",
        "colab_type": "text"
      },
      "source": [
        "<a href=\"https://colab.research.google.com/github/matheusglima/Python_Investing/blob/master/Obtendo_dados_dos_Balan%C3%A7os.ipynb\" target=\"_parent\"><img src=\"https://colab.research.google.com/assets/colab-badge.svg\" alt=\"Open In Colab\"/></a>"
      ]
    },
    {
      "cell_type": "markdown",
      "metadata": {
        "id": "3h7d5sk_-_ne",
        "colab_type": "text"
      },
      "source": [
        "Importando Bibliotecas\n"
      ]
    },
    {
      "cell_type": "code",
      "metadata": {
        "id": "qtNjS_do-dPX",
        "colab_type": "code",
        "colab": {}
      },
      "source": [
        "import pandas as pd\n",
        "import numpy as np\n",
        "import string\n",
        "import warnings \n",
        "warnings.filterwarnings('ignore')\n"
      ],
      "execution_count": 0,
      "outputs": []
    },
    {
      "cell_type": "markdown",
      "metadata": {
        "id": "5-WxuZEr_l15",
        "colab_type": "text"
      },
      "source": [
        "Obtendo e tratando os dados\n"
      ]
    },
    {
      "cell_type": "code",
      "metadata": {
        "id": "FiVwMQYe_EPK",
        "colab_type": "code",
        "colab": {}
      },
      "source": [
        "url = 'https://www.fundamentus.com.br/resultado.php'\n",
        "\n",
        "lista = pd.read_html(url, decimal=',', thousands='.')[0]"
      ],
      "execution_count": 0,
      "outputs": []
    },
    {
      "cell_type": "code",
      "metadata": {
        "id": "QO-AIEMv_dwI",
        "colab_type": "code",
        "colab": {
          "base_uri": "https://localhost:8080/",
          "height": 34
        },
        "outputId": "7e7cbcc7-27e2-4153-9f68-bc7eb76d7527"
      },
      "source": [
        "lista.shape"
      ],
      "execution_count": 25,
      "outputs": [
        {
          "output_type": "execute_result",
          "data": {
            "text/plain": [
              "(195, 21)"
            ]
          },
          "metadata": {
            "tags": []
          },
          "execution_count": 25
        }
      ]
    },
    {
      "cell_type": "code",
      "metadata": {
        "id": "cEY8LQNI_eiY",
        "colab_type": "code",
        "colab": {}
      },
      "source": [
        "for coluna in ['Div.Yield', 'Mrg Ebit', 'Mrg. Líq.', 'ROIC', 'ROE', 'Cresc. Rec.5a']:\n",
        "    lista[coluna] = lista[coluna].str.replace('.', '')\n",
        "    lista[coluna] = lista[coluna].str.replace(',','.')\n",
        "    lista[coluna] = lista[coluna].str.rstrip('%').astype('float') / 100"
      ],
      "execution_count": 0,
      "outputs": []
    },
    {
      "cell_type": "markdown",
      "metadata": {
        "id": "BofT0k1UC-Do",
        "colab_type": "text"
      },
      "source": [
        "Analisando os dados\n"
      ]
    },
    {
      "cell_type": "code",
      "metadata": {
        "id": "IFBK2MfGCvx3",
        "colab_type": "code",
        "colab": {}
      },
      "source": [
        "lista = lista[lista['Liq.2meses'] > 1000000] "
      ],
      "execution_count": 0,
      "outputs": []
    },
    {
      "cell_type": "code",
      "metadata": {
        "id": "UY-YafZRDUGH",
        "colab_type": "code",
        "colab": {}
      },
      "source": [
        "ranking = pd.DataFrame()\n",
        "ranking['pos'] = range(1, 151)\n",
        "ranking['EV/EBIT'] = lista[ lista['EV/EBIT'] > 0 ].sort_values(by=['EV/EBIT'])['Papel'][:150].values\n",
        "ranking['ROIC'] = lista.sort_values(by=['ROIC'], ascending=False)['Papel'][:150].values "
      ],
      "execution_count": 0,
      "outputs": []
    },
    {
      "cell_type": "code",
      "metadata": {
        "id": "SVBL9mgaIGfU",
        "colab_type": "code",
        "colab": {
          "base_uri": "https://localhost:8080/",
          "height": 419
        },
        "outputId": "98c543e7-7064-4171-f9d2-92222137e069"
      },
      "source": [
        "ranking"
      ],
      "execution_count": 28,
      "outputs": [
        {
          "output_type": "execute_result",
          "data": {
            "text/html": [
              "<div>\n",
              "<style scoped>\n",
              "    .dataframe tbody tr th:only-of-type {\n",
              "        vertical-align: middle;\n",
              "    }\n",
              "\n",
              "    .dataframe tbody tr th {\n",
              "        vertical-align: top;\n",
              "    }\n",
              "\n",
              "    .dataframe thead th {\n",
              "        text-align: right;\n",
              "    }\n",
              "</style>\n",
              "<table border=\"1\" class=\"dataframe\">\n",
              "  <thead>\n",
              "    <tr style=\"text-align: right;\">\n",
              "      <th></th>\n",
              "      <th>pos</th>\n",
              "      <th>EV/EBIT</th>\n",
              "      <th>ROIC</th>\n",
              "    </tr>\n",
              "  </thead>\n",
              "  <tbody>\n",
              "    <tr>\n",
              "      <th>0</th>\n",
              "      <td>1</td>\n",
              "      <td>PSSA3</td>\n",
              "      <td>HAPV3</td>\n",
              "    </tr>\n",
              "    <tr>\n",
              "      <th>1</th>\n",
              "      <td>2</td>\n",
              "      <td>SMLS3</td>\n",
              "      <td>BRDT3</td>\n",
              "    </tr>\n",
              "    <tr>\n",
              "      <th>2</th>\n",
              "      <td>3</td>\n",
              "      <td>EMBR3</td>\n",
              "      <td>SEER3</td>\n",
              "    </tr>\n",
              "    <tr>\n",
              "      <th>3</th>\n",
              "      <td>4</td>\n",
              "      <td>ENAT3</td>\n",
              "      <td>SLCE3</td>\n",
              "    </tr>\n",
              "    <tr>\n",
              "      <th>4</th>\n",
              "      <td>5</td>\n",
              "      <td>WIZS3</td>\n",
              "      <td>LINX3</td>\n",
              "    </tr>\n",
              "    <tr>\n",
              "      <th>...</th>\n",
              "      <td>...</td>\n",
              "      <td>...</td>\n",
              "      <td>...</td>\n",
              "    </tr>\n",
              "    <tr>\n",
              "      <th>145</th>\n",
              "      <td>146</td>\n",
              "      <td>RADL3</td>\n",
              "      <td>RADL3</td>\n",
              "    </tr>\n",
              "    <tr>\n",
              "      <th>146</th>\n",
              "      <td>147</td>\n",
              "      <td>WEGE3</td>\n",
              "      <td>CMIG3</td>\n",
              "    </tr>\n",
              "    <tr>\n",
              "      <th>147</th>\n",
              "      <td>148</td>\n",
              "      <td>HAPV3</td>\n",
              "      <td>CMIG4</td>\n",
              "    </tr>\n",
              "    <tr>\n",
              "      <th>148</th>\n",
              "      <td>149</td>\n",
              "      <td>STBP3</td>\n",
              "      <td>PNVL3</td>\n",
              "    </tr>\n",
              "    <tr>\n",
              "      <th>149</th>\n",
              "      <td>150</td>\n",
              "      <td>PRNR3</td>\n",
              "      <td>PCAR3</td>\n",
              "    </tr>\n",
              "  </tbody>\n",
              "</table>\n",
              "<p>150 rows × 3 columns</p>\n",
              "</div>"
            ],
            "text/plain": [
              "     pos EV/EBIT   ROIC\n",
              "0      1   PSSA3  HAPV3\n",
              "1      2   SMLS3  BRDT3\n",
              "2      3   EMBR3  SEER3\n",
              "3      4   ENAT3  SLCE3\n",
              "4      5   WIZS3  LINX3\n",
              "..   ...     ...    ...\n",
              "145  146   RADL3  RADL3\n",
              "146  147   WEGE3  CMIG3\n",
              "147  148   HAPV3  CMIG4\n",
              "148  149   STBP3  PNVL3\n",
              "149  150   PRNR3  PCAR3\n",
              "\n",
              "[150 rows x 3 columns]"
            ]
          },
          "metadata": {
            "tags": []
          },
          "execution_count": 28
        }
      ]
    },
    {
      "cell_type": "code",
      "metadata": {
        "id": "VKPUtmNjITlC",
        "colab_type": "code",
        "colab": {}
      },
      "source": [
        "a = ranking.pivot_table(columns=['EV/EBIT'], values='pos')"
      ],
      "execution_count": 0,
      "outputs": []
    },
    {
      "cell_type": "code",
      "metadata": {
        "id": "eDp8chSFJfi-",
        "colab_type": "code",
        "colab": {}
      },
      "source": [
        "b = ranking.pivot_table(columns=['ROIC'], values='pos')"
      ],
      "execution_count": 0,
      "outputs": []
    },
    {
      "cell_type": "code",
      "metadata": {
        "id": "fSN1g_xDJntP",
        "colab_type": "code",
        "colab": {
          "base_uri": "https://localhost:8080/",
          "height": 160
        },
        "outputId": "969336fc-d26d-4fb9-e4d8-a01254d9b933"
      },
      "source": [
        "t = pd.concat([a, b])\n",
        "t"
      ],
      "execution_count": 31,
      "outputs": [
        {
          "output_type": "execute_result",
          "data": {
            "text/html": [
              "<div>\n",
              "<style scoped>\n",
              "    .dataframe tbody tr th:only-of-type {\n",
              "        vertical-align: middle;\n",
              "    }\n",
              "\n",
              "    .dataframe tbody tr th {\n",
              "        vertical-align: top;\n",
              "    }\n",
              "\n",
              "    .dataframe thead th {\n",
              "        text-align: right;\n",
              "    }\n",
              "</style>\n",
              "<table border=\"1\" class=\"dataframe\">\n",
              "  <thead>\n",
              "    <tr style=\"text-align: right;\">\n",
              "      <th></th>\n",
              "      <th>AALR3</th>\n",
              "      <th>ABEV3</th>\n",
              "      <th>AGRO3</th>\n",
              "      <th>ALPA4</th>\n",
              "      <th>ALSO3</th>\n",
              "      <th>ALUP11</th>\n",
              "      <th>AMAR3</th>\n",
              "      <th>ANIM3</th>\n",
              "      <th>ARZZ3</th>\n",
              "      <th>B3SA3</th>\n",
              "      <th>BEEF3</th>\n",
              "      <th>BRDT3</th>\n",
              "      <th>BRFS3</th>\n",
              "      <th>BRKM5</th>\n",
              "      <th>BRML3</th>\n",
              "      <th>BRPR3</th>\n",
              "      <th>CAML3</th>\n",
              "      <th>CARD3</th>\n",
              "      <th>CCPR3</th>\n",
              "      <th>CCRO3</th>\n",
              "      <th>CEAB3</th>\n",
              "      <th>CESP6</th>\n",
              "      <th>CIEL3</th>\n",
              "      <th>CMIG3</th>\n",
              "      <th>CMIG4</th>\n",
              "      <th>COCE5</th>\n",
              "      <th>COGN3</th>\n",
              "      <th>CPFE3</th>\n",
              "      <th>CPLE3</th>\n",
              "      <th>CPLE6</th>\n",
              "      <th>CRFB3</th>\n",
              "      <th>CSAN3</th>\n",
              "      <th>CSMG3</th>\n",
              "      <th>CSNA3</th>\n",
              "      <th>CVCB3</th>\n",
              "      <th>CYRE3</th>\n",
              "      <th>DIRR3</th>\n",
              "      <th>DTEX3</th>\n",
              "      <th>ECOR3</th>\n",
              "      <th>EGIE3</th>\n",
              "      <th>...</th>\n",
              "      <th>ROMI3</th>\n",
              "      <th>SAPR11</th>\n",
              "      <th>SAPR4</th>\n",
              "      <th>SBSP3</th>\n",
              "      <th>SEER3</th>\n",
              "      <th>SHUL4</th>\n",
              "      <th>SLCE3</th>\n",
              "      <th>SMLS3</th>\n",
              "      <th>SMTO3</th>\n",
              "      <th>STBP3</th>\n",
              "      <th>SULA11</th>\n",
              "      <th>SUZB3</th>\n",
              "      <th>TASA4</th>\n",
              "      <th>TEND3</th>\n",
              "      <th>TGMA3</th>\n",
              "      <th>TIET11</th>\n",
              "      <th>TIET4</th>\n",
              "      <th>TIMP3</th>\n",
              "      <th>TOTS3</th>\n",
              "      <th>TRIS3</th>\n",
              "      <th>TRPL4</th>\n",
              "      <th>TUPY3</th>\n",
              "      <th>UGPA3</th>\n",
              "      <th>UNIP6</th>\n",
              "      <th>USIM3</th>\n",
              "      <th>USIM5</th>\n",
              "      <th>VALE3</th>\n",
              "      <th>VIVT3</th>\n",
              "      <th>VIVT4</th>\n",
              "      <th>VLID3</th>\n",
              "      <th>VULC3</th>\n",
              "      <th>VVAR3</th>\n",
              "      <th>WEGE3</th>\n",
              "      <th>WIZS3</th>\n",
              "      <th>WSON33</th>\n",
              "      <th>YDUQ3</th>\n",
              "      <th>BTOW3</th>\n",
              "      <th>CNTO3</th>\n",
              "      <th>LWSA3</th>\n",
              "      <th>MGLU3</th>\n",
              "    </tr>\n",
              "  </thead>\n",
              "  <tbody>\n",
              "    <tr>\n",
              "      <th>pos</th>\n",
              "      <td>112.0</td>\n",
              "      <td>82.0</td>\n",
              "      <td>75.0</td>\n",
              "      <td>136.0</td>\n",
              "      <td>68.0</td>\n",
              "      <td>8.0</td>\n",
              "      <td>48.0</td>\n",
              "      <td>115.0</td>\n",
              "      <td>135.0</td>\n",
              "      <td>129.0</td>\n",
              "      <td>35.0</td>\n",
              "      <td>91.0</td>\n",
              "      <td>61.0</td>\n",
              "      <td>108.0</td>\n",
              "      <td>66.0</td>\n",
              "      <td>118.0</td>\n",
              "      <td>102.0</td>\n",
              "      <td>78.0</td>\n",
              "      <td>73.0</td>\n",
              "      <td>84.0</td>\n",
              "      <td>80.0</td>\n",
              "      <td>110.0</td>\n",
              "      <td>27.0</td>\n",
              "      <td>15.0</td>\n",
              "      <td>13.0</td>\n",
              "      <td>54.0</td>\n",
              "      <td>134.0</td>\n",
              "      <td>63.0</td>\n",
              "      <td>25.0</td>\n",
              "      <td>29.0</td>\n",
              "      <td>64.0</td>\n",
              "      <td>101.0</td>\n",
              "      <td>34.0</td>\n",
              "      <td>47.0</td>\n",
              "      <td>7.0</td>\n",
              "      <td>109.0</td>\n",
              "      <td>33.0</td>\n",
              "      <td>127.0</td>\n",
              "      <td>70.0</td>\n",
              "      <td>71.0</td>\n",
              "      <td>...</td>\n",
              "      <td>114.0</td>\n",
              "      <td>11.0</td>\n",
              "      <td>10.0</td>\n",
              "      <td>41.0</td>\n",
              "      <td>37.0</td>\n",
              "      <td>88.0</td>\n",
              "      <td>59.0</td>\n",
              "      <td>2.0</td>\n",
              "      <td>105.0</td>\n",
              "      <td>149.0</td>\n",
              "      <td>6.0</td>\n",
              "      <td>144.0</td>\n",
              "      <td>94.0</td>\n",
              "      <td>31.0</td>\n",
              "      <td>30.0</td>\n",
              "      <td>62.0</td>\n",
              "      <td>60.0</td>\n",
              "      <td>56.0</td>\n",
              "      <td>74.0</td>\n",
              "      <td>43.0</td>\n",
              "      <td>32.0</td>\n",
              "      <td>19.0</td>\n",
              "      <td>111.0</td>\n",
              "      <td>36.0</td>\n",
              "      <td>58.0</td>\n",
              "      <td>51.0</td>\n",
              "      <td>9.0</td>\n",
              "      <td>81.0</td>\n",
              "      <td>83.0</td>\n",
              "      <td>39.0</td>\n",
              "      <td>22.0</td>\n",
              "      <td>121.0</td>\n",
              "      <td>147.0</td>\n",
              "      <td>5.0</td>\n",
              "      <td>17.0</td>\n",
              "      <td>69.0</td>\n",
              "      <td>NaN</td>\n",
              "      <td>NaN</td>\n",
              "      <td>NaN</td>\n",
              "      <td>NaN</td>\n",
              "    </tr>\n",
              "    <tr>\n",
              "      <th>pos</th>\n",
              "      <td>74.0</td>\n",
              "      <td>97.0</td>\n",
              "      <td>15.0</td>\n",
              "      <td>104.0</td>\n",
              "      <td>63.0</td>\n",
              "      <td>103.0</td>\n",
              "      <td>137.0</td>\n",
              "      <td>49.0</td>\n",
              "      <td>114.0</td>\n",
              "      <td>117.0</td>\n",
              "      <td>92.0</td>\n",
              "      <td>2.0</td>\n",
              "      <td>NaN</td>\n",
              "      <td>65.0</td>\n",
              "      <td>58.0</td>\n",
              "      <td>86.0</td>\n",
              "      <td>25.0</td>\n",
              "      <td>131.0</td>\n",
              "      <td>50.0</td>\n",
              "      <td>125.0</td>\n",
              "      <td>39.0</td>\n",
              "      <td>69.0</td>\n",
              "      <td>118.0</td>\n",
              "      <td>147.0</td>\n",
              "      <td>148.0</td>\n",
              "      <td>31.0</td>\n",
              "      <td>89.0</td>\n",
              "      <td>120.0</td>\n",
              "      <td>144.0</td>\n",
              "      <td>145.0</td>\n",
              "      <td>135.0</td>\n",
              "      <td>20.0</td>\n",
              "      <td>123.0</td>\n",
              "      <td>140.0</td>\n",
              "      <td>122.0</td>\n",
              "      <td>57.0</td>\n",
              "      <td>55.0</td>\n",
              "      <td>59.0</td>\n",
              "      <td>116.0</td>\n",
              "      <td>105.0</td>\n",
              "      <td>...</td>\n",
              "      <td>76.0</td>\n",
              "      <td>96.0</td>\n",
              "      <td>95.0</td>\n",
              "      <td>119.0</td>\n",
              "      <td>3.0</td>\n",
              "      <td>24.0</td>\n",
              "      <td>4.0</td>\n",
              "      <td>73.0</td>\n",
              "      <td>44.0</td>\n",
              "      <td>91.0</td>\n",
              "      <td>35.0</td>\n",
              "      <td>79.0</td>\n",
              "      <td>18.0</td>\n",
              "      <td>110.0</td>\n",
              "      <td>83.0</td>\n",
              "      <td>108.0</td>\n",
              "      <td>107.0</td>\n",
              "      <td>10.0</td>\n",
              "      <td>60.0</td>\n",
              "      <td>138.0</td>\n",
              "      <td>136.0</td>\n",
              "      <td>124.0</td>\n",
              "      <td>40.0</td>\n",
              "      <td>9.0</td>\n",
              "      <td>62.0</td>\n",
              "      <td>61.0</td>\n",
              "      <td>100.0</td>\n",
              "      <td>38.0</td>\n",
              "      <td>37.0</td>\n",
              "      <td>28.0</td>\n",
              "      <td>128.0</td>\n",
              "      <td>45.0</td>\n",
              "      <td>94.0</td>\n",
              "      <td>23.0</td>\n",
              "      <td>113.0</td>\n",
              "      <td>99.0</td>\n",
              "      <td>87.0</td>\n",
              "      <td>88.0</td>\n",
              "      <td>33.0</td>\n",
              "      <td>41.0</td>\n",
              "    </tr>\n",
              "  </tbody>\n",
              "</table>\n",
              "<p>2 rows × 153 columns</p>\n",
              "</div>"
            ],
            "text/plain": [
              "     AALR3  ABEV3  AGRO3  ALPA4  ALSO3  ...  YDUQ3  BTOW3  CNTO3  LWSA3  MGLU3\n",
              "pos  112.0   82.0   75.0  136.0   68.0  ...   69.0    NaN    NaN    NaN    NaN\n",
              "pos   74.0   97.0   15.0  104.0   63.0  ...   99.0   87.0   88.0   33.0   41.0\n",
              "\n",
              "[2 rows x 153 columns]"
            ]
          },
          "metadata": {
            "tags": []
          },
          "execution_count": 31
        }
      ]
    },
    {
      "cell_type": "code",
      "metadata": {
        "id": "UAbiR7hWJtwT",
        "colab_type": "code",
        "colab": {
          "base_uri": "https://localhost:8080/",
          "height": 221
        },
        "outputId": "88c9ff0d-a48a-4956-e33e-95517098128f"
      },
      "source": [
        "rank = t.dropna(axis=1).sum()\n",
        "rank"
      ],
      "execution_count": 32,
      "outputs": [
        {
          "output_type": "execute_result",
          "data": {
            "text/plain": [
              "AALR3     186.0\n",
              "ABEV3     179.0\n",
              "AGRO3      90.0\n",
              "ALPA4     240.0\n",
              "ALSO3     131.0\n",
              "          ...  \n",
              "VVAR3     166.0\n",
              "WEGE3     241.0\n",
              "WIZS3      28.0\n",
              "WSON33    130.0\n",
              "YDUQ3     168.0\n",
              "Length: 145, dtype: float64"
            ]
          },
          "metadata": {
            "tags": []
          },
          "execution_count": 32
        }
      ]
    },
    {
      "cell_type": "code",
      "metadata": {
        "id": "TfEVjsGTKHEF",
        "colab_type": "code",
        "colab": {
          "base_uri": "https://localhost:8080/",
          "height": 374
        },
        "outputId": "dcade5db-ca96-41aa-ec65-7d3fd3087bdd"
      },
      "source": [
        "rank.sort_values()[:20]"
      ],
      "execution_count": 36,
      "outputs": [
        {
          "output_type": "execute_result",
          "data": {
            "text/plain": [
              "PFRM3      26.0\n",
              "WIZS3      28.0\n",
              "PSSA3      37.0\n",
              "SEER3      40.0\n",
              "SULA11     41.0\n",
              "UNIP6      45.0\n",
              "NEOE3      51.0\n",
              "POSI3      54.0\n",
              "SLCE3      63.0\n",
              "TIMP3      66.0\n",
              "VLID3      67.0\n",
              "JPSA3      67.0\n",
              "SMLS3      75.0\n",
              "COCE5      85.0\n",
              "DIRR3      88.0\n",
              "AGRO3      90.0\n",
              "BRDT3      93.0\n",
              "LIGT3      96.0\n",
              "RLOG3     101.0\n",
              "LCAM3     101.0\n",
              "dtype: float64"
            ]
          },
          "metadata": {
            "tags": []
          },
          "execution_count": 36
        }
      ]
    },
    {
      "cell_type": "code",
      "metadata": {
        "id": "0Ph5NYM6Kkcm",
        "colab_type": "code",
        "colab": {}
      },
      "source": [
        ""
      ],
      "execution_count": 0,
      "outputs": []
    }
  ]
}